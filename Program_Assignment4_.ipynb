{
 "cells": [
  {
   "cell_type": "code",
   "execution_count": null,
   "id": "6b475916-6d34-458e-a791-9acb15932d54",
   "metadata": {},
   "outputs": [],
   "source": [
    "# 1. Write a Python Program to Find the Factorial of a Number?\n",
    "# 2. Write a Python Program to Display the multiplication Table?\n",
    "# 3. Write a Python Program to Print the Fibonacci sequence?\n",
    "# 4. Write a Python Program to Check Armstrong Number?\n",
    "# 5. Write a Python Program to Find Armstrong Number in an Interval?\n",
    "# 6. Write a Python Program to Find the Sum of Natural Numbers?"
   ]
  },
  {
   "cell_type": "code",
   "execution_count": 8,
   "id": "17f5fa43-9f01-4144-be7d-ebf38d28211e",
   "metadata": {},
   "outputs": [
    {
     "name": "stdin",
     "output_type": "stream",
     "text": [
      "Enter an integer whose factorial has to be found -2\n"
     ]
    },
    {
     "name": "stdout",
     "output_type": "stream",
     "text": [
      "-2!=-inf\n"
     ]
    }
   ],
   "source": [
    "# 1. Write a Python Program to Find the Factorial of a Number?\n",
    "import math\n",
    "def factorial(n):\n",
    "    fact=1\n",
    "    while n>0:\n",
    "        fact=fact*n\n",
    "        n-=1\n",
    "    return fact\n",
    "\n",
    "n=int(input(\"Enter an integer whose factorial has to be found\"))\n",
    "if n<0:\n",
    "    if abs(n)%2==0:\n",
    "        pos_infinity=-math.inf\n",
    "        print(f\"{n}!={pos_infinity}\")\n",
    "    else:\n",
    "        neg_infinity=math.inf\n",
    "        print(f\"{n}!={neg_infinity}\")\n",
    "else:        \n",
    "    print(f\"{n}!={factorial(n)}\")"
   ]
  },
  {
   "cell_type": "code",
   "execution_count": null,
   "id": "99924e6a-34c1-4098-8d56-b6e932a7090a",
   "metadata": {},
   "outputs": [],
   "source": [
    "# 2. Write a Python Program to Display the multiplication Table?\n",
    "\n",
    "product=1\n",
    "n=int(input(\"Enter the multiplicand:\"))\n",
    "multiplier=0\n",
    "while multiplier<11:\n",
    "    product=n*multiplier\n",
    "    print(f\"{n} X {multiplier} ={product} \\n\")\n",
    "    multiplier+=1\n",
    "    \n",
    "    \n"
   ]
  },
  {
   "cell_type": "code",
   "execution_count": 34,
   "id": "b0f6c0f8-fa10-481d-8e08-126161371a7e",
   "metadata": {},
   "outputs": [
    {
     "name": "stdin",
     "output_type": "stream",
     "text": [
      "Enter the sequence 13\n"
     ]
    },
    {
     "name": "stdout",
     "output_type": "stream",
     "text": [
      "\n",
      "\n",
      "0 1 1 2 3 5 8 13 21 34 55 89 144 "
     ]
    }
   ],
   "source": [
    "# 3. Write a Python Program to Print the Fibonacci sequence?\n",
    "no_seq=int(input(\"Enter the sequence\"))\n",
    "print(\"\\n\")\n",
    "n1=0\n",
    "n2=1\n",
    "if no_seq==1:\n",
    "    print(n1)\n",
    "if no_seq==2:\n",
    "    print(n1,n2)\n",
    "if no_seq>2:\n",
    "    print(n1,n2,end=\" \")\n",
    "    for i in range(3,(no_seq+1)):\n",
    "        new=n2+n1\n",
    "        print(new,end=\" \")\n",
    "        n1=n2\n",
    "        n2=new\n",
    "        \n",
    "        \n",
    "        \n",
    "        \n",
    "\n",
    "    \n",
    "           \n",
    "        \n",
    "    \n",
    "                 "
   ]
  },
  {
   "cell_type": "markdown",
   "id": "9a38ac3a-6377-4c3d-a0ff-7761ba310153",
   "metadata": {},
   "source": [
    "## "
   ]
  },
  {
   "cell_type": "code",
   "execution_count": 52,
   "id": "0ff21ebf-141c-4fbc-be18-b4e140d4f0c3",
   "metadata": {},
   "outputs": [
    {
     "name": "stdin",
     "output_type": "stream",
     "text": [
      "Enter a number 351\n"
     ]
    },
    {
     "name": "stdout",
     "output_type": "stream",
     "text": [
      "3\n",
      "5\n",
      "1\n",
      "351 is not an Armstrong Number\n"
     ]
    }
   ],
   "source": [
    "# 4. Write a Python Program to Check Armstrong Number?\n",
    "test_no=int(input(\"Enter a number\"))\n",
    "no=str(test_no)\n",
    "sum=0\n",
    "for i in range(len(no)):\n",
    "    print(no[i])\n",
    "   \n",
    "    sum+=(int(no[i]))**len(no)\n",
    "if sum==test_no:\n",
    "    print(f\"{test_no} is an Armstrong Number\")\n",
    "else:\n",
    "    print(f\"{test_no} is not an Armstrong Number\")\n",
    "\n"
   ]
  },
  {
   "cell_type": "code",
   "execution_count": 62,
   "id": "4c16689d-30f2-4036-b920-443a3ce4b60c",
   "metadata": {},
   "outputs": [
    {
     "name": "stdin",
     "output_type": "stream",
     "text": [
      "Interval of armastrong number 1700\n"
     ]
    },
    {
     "name": "stdout",
     "output_type": "stream",
     "text": [
      "1 2 3 4 5 6 7 8 9 153 370 371 407 1634 "
     ]
    }
   ],
   "source": [
    "# 5. Write a Python Program to Find Armstrong Number in an Interval?\n",
    "n=int(input(\"Interval of armastrong number\"))\n",
    "for i in range(1,n):\n",
    "    no=str(i)\n",
    "    sum=0\n",
    "    for j in range(len(no)):\n",
    "        #print(no[j])\n",
    "   \n",
    "        sum+=(int(no[j]))**len(no)\n",
    "    if sum==i:\n",
    "        print(i,end=\" \")\n",
    "#     else:\n",
    "#         print(f\"{i} is not an Armstrong Number\")\n",
    "\n",
    "\n",
    "    "
   ]
  },
  {
   "cell_type": "code",
   "execution_count": 4,
   "id": "dca34adc-0ae5-4ac1-9f8a-138f4c408f5c",
   "metadata": {},
   "outputs": [
    {
     "name": "stdin",
     "output_type": "stream",
     "text": [
      "How many natural numbers 10\n"
     ]
    },
    {
     "name": "stdout",
     "output_type": "stream",
     "text": [
      "1\n",
      "2\n",
      "3\n",
      "4\n",
      "5\n",
      "6\n",
      "7\n",
      "8\n",
      "9\n",
      "10\n",
      "The sum of 10 natural numbers are:55\n"
     ]
    }
   ],
   "source": [
    "# 6. Write a Python Program to Find the Sum of Natural Numbers?\n",
    "num=int(input(\"How many natural numbers\"))\n",
    "sum=0\n",
    "for i in range(1,(num+1)):\n",
    "    print(i)\n",
    "    sum+=i\n",
    "    \n",
    "print(f\"The sum of {num} natural numbers are:{sum}\")"
   ]
  },
  {
   "cell_type": "code",
   "execution_count": null,
   "id": "5223188e-29c6-4dac-8e3b-ee4aa583077e",
   "metadata": {},
   "outputs": [],
   "source": []
  }
 ],
 "metadata": {
  "kernelspec": {
   "display_name": "Python 3 (ipykernel)",
   "language": "python",
   "name": "python3"
  },
  "language_info": {
   "codemirror_mode": {
    "name": "ipython",
    "version": 3
   },
   "file_extension": ".py",
   "mimetype": "text/x-python",
   "name": "python",
   "nbconvert_exporter": "python",
   "pygments_lexer": "ipython3",
   "version": "3.10.6"
  }
 },
 "nbformat": 4,
 "nbformat_minor": 5
}
