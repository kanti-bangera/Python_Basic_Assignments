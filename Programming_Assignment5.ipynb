{
 "cells": [
  {
   "cell_type": "code",
   "execution_count": null,
   "id": "6e8b8094-e228-476e-a23a-e7088e8fbcbf",
   "metadata": {},
   "outputs": [],
   "source": [
    "# 1. Write a Python Program to Find LCM?\n",
    "# 2. Write a Python Program to Find HCF?\n",
    "# 3. Write a Python Program to Convert Decimal to Binary, Octal and Hexadecimal?\n",
    "# 4. Write a Python Program To Find ASCII value of a character?\n",
    "# 5. Write a Python Program to Make a Simple Calculator with 4 basic mathematical operations?"
   ]
  },
  {
   "cell_type": "code",
   "execution_count": 1,
   "id": "874c3d2c-a2b1-453f-a802-29828ea7e480",
   "metadata": {},
   "outputs": [
    {
     "name": "stdin",
     "output_type": "stream",
     "text": [
      "Enter the fisrt no. 30\n",
      "Enter the second no. 45\n"
     ]
    },
    {
     "name": "stdout",
     "output_type": "stream",
     "text": [
      "HCF(30,45)=15\n",
      "LCM(30,45)=90\n"
     ]
    }
   ],
   "source": [
    "# 1. Write a Python Program to Find LCM?\n",
    "# 2. Write a Python Program to Find HCF?\n",
    "n1=int(input(\"Enter the fisrt no.\"))\n",
    "n2=int(input(\"Enter the second no.\"))\n",
    "hcf=1\n",
    "for i in range(1,10):\n",
    "    if(n1%i==0)and(n2%i==0):\n",
    "        hcf*=i\n",
    "print(f'HCF({n1},{n2})={hcf}')        \n",
    "# formula:lcm(a,b)* hcf(a,b)=a*b\n",
    "\n",
    "lcm=int((n1*n2)/hcf)\n",
    "print(f'LCM({n1},{n2})={lcm}')   \n",
    "        "
   ]
  },
  {
   "cell_type": "code",
   "execution_count": 79,
   "id": "522285fb-6d4d-4827-bf06-3cd11fc47997",
   "metadata": {},
   "outputs": [],
   "source": [
    "# 3. Write a Python Program to Convert Decimal to Binary, Octal and Hexadecimal?\n",
    "#using in-built binary function\n",
    "\n",
    "\n",
    "class Conversion:\n",
    "    \n",
    "#     def __init__(self):\n",
    "#         self.n1=int(input(\"enter the no:\"))\n",
    "        \n",
    "      \n",
    "    def dec_bin(self):\n",
    "        self.n1=int(input(\"enter the no:\"))\n",
    "        self.binary=[]\n",
    "        while self.n1>1:\n",
    "            self.binary.append(self.n1%2)\n",
    "            self.n1=int(self.n1/2)\n",
    "        if self.n1!=0:\n",
    "            self.binary.append(self.n1)\n",
    "        self.binary.reverse()\n",
    "        return f\"{''.join(map(str,self.binary))}\"\n",
    "    \n",
    "    def dec_oct(self):\n",
    "        self.n1=int(input(\"enter the no:\"))\n",
    "        self.oct1=[]\n",
    "        while self.n1>1:\n",
    "            self.oct1.append(self.n1%8)\n",
    "            self.n1=int(self.n1/8)\n",
    "        if self.n1!=0:\n",
    "            self.oct1.append(self.n1)\n",
    "       \n",
    "        #print(self.oct1)\n",
    "        self.oct1.reverse()\n",
    "        return f\"{''.join(map(str,self.oct1))}\"\n",
    "    \n",
    "        \n",
    "    def dec_hex(self):\n",
    "        self.n1=int(input(\"enter the no:\"))\n",
    "        self.hex1=[]\n",
    "        while self.n1>1:\n",
    "            self.hex1.append(self.n1%16)\n",
    "            self.n1=int(self.n1/16)\n",
    "        if self.n1!=0:\n",
    "            self.hex1.append(self.n1)\n",
    "        #print(self.hex1)\n",
    "        self.hex1.reverse()\n",
    "        return f\"{''.join(map(str,self.hex1))}\"\n",
    "    \n",
    "    \n",
    "    \n",
    "    \n",
    "        \n",
    "            \n",
    "        \n",
    "\n",
    "\n"
   ]
  },
  {
   "cell_type": "code",
   "execution_count": 80,
   "id": "17923243-9c63-470b-979c-0a1abdcc1aef",
   "metadata": {},
   "outputs": [
    {
     "name": "stdin",
     "output_type": "stream",
     "text": [
      "enter the no: 13\n"
     ]
    },
    {
     "name": "stdout",
     "output_type": "stream",
     "text": [
      "The Octal conversion=15\n"
     ]
    },
    {
     "name": "stdin",
     "output_type": "stream",
     "text": [
      "enter the no: 13\n"
     ]
    },
    {
     "name": "stdout",
     "output_type": "stream",
     "text": [
      "The hexadecimal conversion=13\n"
     ]
    },
    {
     "name": "stdin",
     "output_type": "stream",
     "text": [
      "enter the no: 13\n"
     ]
    },
    {
     "name": "stdout",
     "output_type": "stream",
     "text": [
      "The binary conversion=1101\n"
     ]
    }
   ],
   "source": [
    "decconv=Conversion()\n",
    "print(f'The Octal conversion={decconv.dec_oct()}')\n",
    "print(f'The hexadecimal conversion={decconv.dec_hex()}')\n",
    "print(f'The binary conversion={decconv.dec_bin()}')"
   ]
  },
  {
   "cell_type": "code",
   "execution_count": 38,
   "id": "f5e7f5fb-1304-4ce7-b0eb-67d7f4523e1c",
   "metadata": {},
   "outputs": [
    {
     "name": "stdin",
     "output_type": "stream",
     "text": [
      "Enter a character 5\n"
     ]
    },
    {
     "name": "stdout",
     "output_type": "stream",
     "text": [
      "The ASCII of 5 is:53\n"
     ]
    }
   ],
   "source": [
    "# 4. Write a Python Program To Find ASCII value of a character?\n",
    "char1=input(\"Enter a character\")\n",
    "print(f'The ASCII of {char1} is:{ord(char1)}')"
   ]
  },
  {
   "cell_type": "code",
   "execution_count": 4,
   "id": "dd9e57cc-a4af-4828-9865-1991265dc49c",
   "metadata": {},
   "outputs": [
    {
     "name": "stdin",
     "output_type": "stream",
     "text": [
      "Enter a no: 12\n",
      "Enter a no: 15\n"
     ]
    },
    {
     "name": "stdout",
     "output_type": "stream",
     "text": [
      "This is a calculator\n",
      "The sum is:27\n",
      "The difference is:-3\n",
      "The product is:180\n",
      "The quotient is:0.8\n"
     ]
    }
   ],
   "source": [
    "# 5. Write a Python Program to Make a Simple Calculator with 4 basic mathematical operations?\n",
    "class Calculator:\n",
    "    \n",
    "    def __init__(self):\n",
    "        self.a=int(input('Enter a no:'))\n",
    "        self.b=int(input('Enter a no:'))\n",
    "        \n",
    "    def add(self):\n",
    "        return self.a+self.b\n",
    "    \n",
    "    def sub(self):\n",
    "        return self.a-self.b\n",
    "    \n",
    "    def mul(self):\n",
    "        return self.a*self.b\n",
    "    \n",
    "    def div(self):\n",
    "        return self.a/self.b\n",
    "    \n",
    "    def __str__(self):\n",
    "        return 'This is a calculator'\n",
    "    \n",
    "    \n",
    "calc=Calculator()\n",
    "print(calc)\n",
    "print(f'The sum is:{calc.add()}')\n",
    "print(f'The difference is:{calc.sub()}')\n",
    "print(f'The product is:{calc.mul()}')\n",
    "print(f'The quotient is:{calc.div()}')\n",
    "\n",
    "            "
   ]
  },
  {
   "cell_type": "code",
   "execution_count": null,
   "id": "9d1fdce5-e871-42a7-ab4e-6d2c7fee9db4",
   "metadata": {},
   "outputs": [],
   "source": []
  }
 ],
 "metadata": {
  "kernelspec": {
   "display_name": "Python 3 (ipykernel)",
   "language": "python",
   "name": "python3"
  },
  "language_info": {
   "codemirror_mode": {
    "name": "ipython",
    "version": 3
   },
   "file_extension": ".py",
   "mimetype": "text/x-python",
   "name": "python",
   "nbconvert_exporter": "python",
   "pygments_lexer": "ipython3",
   "version": "3.10.6"
  }
 },
 "nbformat": 4,
 "nbformat_minor": 5
}
