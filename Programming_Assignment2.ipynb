{
 "cells": [
  {
   "cell_type": "code",
   "execution_count": null,
   "id": "b8cd0314-675d-4e1a-a77a-2b124510dbc5",
   "metadata": {},
   "outputs": [],
   "source": [
    "# 1. Write a Python program to convert kilometers to miles?\n",
    "# 2. Write a Python program to convert Celsius to Fahrenheit?\n",
    "# 3. Write a Python program to display calendar?\n",
    "# 4. Write a Python program to solve quadratic equation?\n",
    "# 5. Write a Python program to swap two variables without temp variable?"
   ]
  },
  {
   "cell_type": "code",
   "execution_count": 1,
   "id": "01a981d2-8644-4b23-a02d-1c78ba261da5",
   "metadata": {},
   "outputs": [
    {
     "name": "stdin",
     "output_type": "stream",
     "text": [
      "Enter the value in kiometer 34\n"
     ]
    },
    {
     "name": "stdout",
     "output_type": "stream",
     "text": [
      "34 km = 21.126620459999998 miles\n"
     ]
    }
   ],
   "source": [
    "#1. Write a Python program to convert kilometers to miles?\n",
    "kilo=int(input(\"Enter the value in kiometer\"))\n",
    "# 1 kilometer is approximately equal to 0.62137119 miles.\n",
    "miles=kilo*0.62137119 \n",
    "print(f\"{kilo} km = {miles} miles\")\n"
   ]
  },
  {
   "cell_type": "code",
   "execution_count": 5,
   "id": "cdf2b068-621a-46bd-930a-571e944e7775",
   "metadata": {},
   "outputs": [
    {
     "name": "stdin",
     "output_type": "stream",
     "text": [
      "Enter the temperature in celsius 0\n"
     ]
    },
    {
     "name": "stdout",
     "output_type": "stream",
     "text": [
      "0 degree clesius = 32.0 degree Fahrenheit\n"
     ]
    }
   ],
   "source": [
    "# 2. Write a Python program to convert Celsius to Fahrenheit?\n",
    "# (°C × 9/5) + 32 = °F\n",
    "celsius=int(input(\"Enter the temperature in celsius\"))\n",
    "Fahrenheit=((celsius*9)/5)+32\n",
    "print(f\"{celsius} degree clesius = {Fahrenheit} degree Fahrenheit\")\n"
   ]
  },
  {
   "cell_type": "code",
   "execution_count": 10,
   "id": "dfb8016e-6dfb-4034-b40f-1365a7286663",
   "metadata": {},
   "outputs": [
    {
     "name": "stdout",
     "output_type": "stream",
     "text": [
      "                                             2023\n",
      "\n",
      "\n",
      "\n",
      "          January                          February                          March\n",
      "\n",
      "Mon Tue Wed Thu Fri Sat Sun      Mon Tue Wed Thu Fri Sat Sun      Mon Tue Wed Thu Fri Sat Sun\n",
      "\n",
      "                          1                1   2   3   4   5                1   2   3   4   5\n",
      "\n",
      "  2   3   4   5   6   7   8        6   7   8   9  10  11  12        6   7   8   9  10  11  12\n",
      "\n",
      "  9  10  11  12  13  14  15       13  14  15  16  17  18  19       13  14  15  16  17  18  19\n",
      "\n",
      " 16  17  18  19  20  21  22       20  21  22  23  24  25  26       20  21  22  23  24  25  26\n",
      "\n",
      " 23  24  25  26  27  28  29       27  28                           27  28  29  30  31\n",
      "\n",
      " 30  31\n",
      "\n",
      "\n",
      "\n",
      "           April                             May                              June\n",
      "\n",
      "Mon Tue Wed Thu Fri Sat Sun      Mon Tue Wed Thu Fri Sat Sun      Mon Tue Wed Thu Fri Sat Sun\n",
      "\n",
      "                      1   2        1   2   3   4   5   6   7                    1   2   3   4\n",
      "\n",
      "  3   4   5   6   7   8   9        8   9  10  11  12  13  14        5   6   7   8   9  10  11\n",
      "\n",
      " 10  11  12  13  14  15  16       15  16  17  18  19  20  21       12  13  14  15  16  17  18\n",
      "\n",
      " 17  18  19  20  21  22  23       22  23  24  25  26  27  28       19  20  21  22  23  24  25\n",
      "\n",
      " 24  25  26  27  28  29  30       29  30  31                       26  27  28  29  30\n",
      "\n",
      "\n",
      "\n",
      "            July                            August                         September\n",
      "\n",
      "Mon Tue Wed Thu Fri Sat Sun      Mon Tue Wed Thu Fri Sat Sun      Mon Tue Wed Thu Fri Sat Sun\n",
      "\n",
      "                      1   2            1   2   3   4   5   6                        1   2   3\n",
      "\n",
      "  3   4   5   6   7   8   9        7   8   9  10  11  12  13        4   5   6   7   8   9  10\n",
      "\n",
      " 10  11  12  13  14  15  16       14  15  16  17  18  19  20       11  12  13  14  15  16  17\n",
      "\n",
      " 17  18  19  20  21  22  23       21  22  23  24  25  26  27       18  19  20  21  22  23  24\n",
      "\n",
      " 24  25  26  27  28  29  30       28  29  30  31                   25  26  27  28  29  30\n",
      "\n",
      " 31\n",
      "\n",
      "\n",
      "\n",
      "          October                          November                         December\n",
      "\n",
      "Mon Tue Wed Thu Fri Sat Sun      Mon Tue Wed Thu Fri Sat Sun      Mon Tue Wed Thu Fri Sat Sun\n",
      "\n",
      "                          1                1   2   3   4   5                        1   2   3\n",
      "\n",
      "  2   3   4   5   6   7   8        6   7   8   9  10  11  12        4   5   6   7   8   9  10\n",
      "\n",
      "  9  10  11  12  13  14  15       13  14  15  16  17  18  19       11  12  13  14  15  16  17\n",
      "\n",
      " 16  17  18  19  20  21  22       20  21  22  23  24  25  26       18  19  20  21  22  23  24\n",
      "\n",
      " 23  24  25  26  27  28  29       27  28  29  30                   25  26  27  28  29  30  31\n",
      "\n",
      " 30  31\n",
      "\n",
      "\n"
     ]
    }
   ],
   "source": [
    "import calendar\n",
    "print(calendar.calendar(2023,w=3,l=2))"
   ]
  },
  {
   "cell_type": "code",
   "execution_count": 22,
   "id": "6d3477e6-0b77-46c7-8d6c-803ff91ca025",
   "metadata": {},
   "outputs": [
    {
     "name": "stdin",
     "output_type": "stream",
     "text": [
      "Enter the a value 6\n",
      "Enter the b value -17\n",
      "Enter the c value 12\n"
     ]
    },
    {
     "name": "stdout",
     "output_type": "stream",
     "text": [
      "The value of x for the equation 6x2+(-17x)+12 is 1.5 and 1.3333333333333333\n"
     ]
    }
   ],
   "source": [
    "#4. Write a Python program to solve quadratic equation?\n",
    "from math import sqrt\n",
    "a=int(input(\"Enter the a value\"))\n",
    "b=int(input(\"Enter the b value\"))\n",
    "c=int(input(\"Enter the c value\"))\n",
    "n=((b*b)-(4*a*c))\n",
    "squ=sqrt(n)\n",
    "x1=(-b+squ)/(2*a)\n",
    "x2=(-b-squ)/(2*a)\n",
    "print(f\"The value of x for the quadratic equation {a}x2+({b}x)+{c} is {x1} and {x2}\")\n",
    "\n",
    "\n",
    "\n"
   ]
  },
  {
   "cell_type": "code",
   "execution_count": 13,
   "id": "ad001afa-b3ad-403c-8c40-14906466ef48",
   "metadata": {},
   "outputs": [
    {
     "name": "stdout",
     "output_type": "stream",
     "text": [
      "x=2 and y=1\n",
      " After swap, x=1 and y=2\n"
     ]
    }
   ],
   "source": [
    "#Write a Python program to swap two variables without temp variable?\n",
    "x=2\n",
    "y=1\n",
    "print(f\"x={x} and y={y}\")\n",
    "x,y=y,x\n",
    "print(f\"After swap, x={x} and y={y}\")"
   ]
  },
  {
   "cell_type": "code",
   "execution_count": 18,
   "id": "031ab91e-e428-43ba-8fae-cd1787f9647f",
   "metadata": {},
   "outputs": [
    {
     "name": "stdout",
     "output_type": "stream",
     "text": [
      "2.0\n"
     ]
    }
   ],
   "source": [
    "from math import sqrt\n",
    "x=sqrt(4)\n",
    "print(x)"
   ]
  },
  {
   "cell_type": "code",
   "execution_count": null,
   "id": "80a0430e-18e5-4080-af46-558d16a087d8",
   "metadata": {},
   "outputs": [],
   "source": []
  }
 ],
 "metadata": {
  "kernelspec": {
   "display_name": "Python 3 (ipykernel)",
   "language": "python",
   "name": "python3"
  },
  "language_info": {
   "codemirror_mode": {
    "name": "ipython",
    "version": 3
   },
   "file_extension": ".py",
   "mimetype": "text/x-python",
   "name": "python",
   "nbconvert_exporter": "python",
   "pygments_lexer": "ipython3",
   "version": "3.10.6"
  }
 },
 "nbformat": 4,
 "nbformat_minor": 5
}
