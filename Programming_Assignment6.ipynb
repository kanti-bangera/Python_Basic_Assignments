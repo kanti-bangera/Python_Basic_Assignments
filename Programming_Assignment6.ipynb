{
 "cells": [
  {
   "cell_type": "code",
   "execution_count": null,
   "id": "bebc4853-f030-4b2b-955c-cd0cbbf8c1b5",
   "metadata": {},
   "outputs": [],
   "source": [
    "# 1. Write a Python Program to Display Fibonacci Sequence Using Recursion?\n",
    "# 2. Write a Python Program to Find Factorial of Number Using Recursion?\n",
    "# 3. Write a Python Program to calculate your Body Mass Index?\n",
    "# 4. Write a Python Program to calculate the natural logarithm of any number?\n",
    "# 5. Write a Python Program for cube sum of first n natural numbers?"
   ]
  },
  {
   "cell_type": "code",
   "execution_count": 2,
   "id": "ae63c5eb-20b4-4b7c-8f3f-2ca1655a7709",
   "metadata": {},
   "outputs": [
    {
     "name": "stdin",
     "output_type": "stream",
     "text": [
      "Enter the how many sequence you want in a series 10\n"
     ]
    },
    {
     "name": "stdout",
     "output_type": "stream",
     "text": [
      "0\n",
      "1\n",
      "1\n",
      "2\n",
      "3\n",
      "5\n",
      "8\n",
      "13\n",
      "21\n",
      "34\n"
     ]
    }
   ],
   "source": [
    "# 1. Write a Python Program to Display Fibonacci Sequence Using Recursion?\n",
    "def feb_seq(i):\n",
    "    if i==1:\n",
    "        return 0\n",
    "    elif i==2:\n",
    "        return 1\n",
    "    else:\n",
    "        return (feb_seq(i-1)+feb_seq(i-2))\n",
    "\n",
    "\n",
    "\n",
    "\n",
    "\n",
    "sq=int(input(\"Enter the how many sequence you want in a series\"))\n",
    "if sq<=0:\n",
    "    print(\"Enter the number a positive number\")\n",
    "else:\n",
    "    for i in range(1,sq+1):\n",
    "        print(feb_seq(i))\n",
    "    "
   ]
  },
  {
   "cell_type": "code",
   "execution_count": 15,
   "id": "c61c02a0-f446-4f52-9385-38a7cc5d94a5",
   "metadata": {},
   "outputs": [
    {
     "name": "stdin",
     "output_type": "stream",
     "text": [
      "Enter the a number to find its factorial 5\n"
     ]
    },
    {
     "name": "stdout",
     "output_type": "stream",
     "text": [
      "The factorial of 5!=120\n"
     ]
    }
   ],
   "source": [
    "# 2. Write a Python Program to Find Factorial of Number Using Recursion?\n",
    "def factorial(n):\n",
    "    if n==0 or n==1:\n",
    "        return 1\n",
    "    else:\n",
    "            return (n*factorial(n-1))\n",
    "    \n",
    "\n",
    "\n",
    "\n",
    "\n",
    "n=int(input(\"Enter the a number to find its factorial\"))\n",
    "print(f\"The factorial of {n}!={factorial(n)}\")\n"
   ]
  },
  {
   "cell_type": "code",
   "execution_count": 3,
   "id": "7a59c5f1-08d7-4f21-b064-d7096040e874",
   "metadata": {},
   "outputs": [
    {
     "name": "stdin",
     "output_type": "stream",
     "text": [
      "Enter the weight in kilogram 63\n",
      "Enter the height in meters 1.55448\n"
     ]
    },
    {
     "name": "stdout",
     "output_type": "stream",
     "text": [
      " BMI is =26.07175533459102\n",
      "You are overweight\n"
     ]
    }
   ],
   "source": [
    "# 3. Write a Python Program to calculate your Body Mass Index?\n",
    "wght=float(input(\"Enter the weight in kilogram\"))\n",
    "hght=float(input(\"Enter the height in meters\"))\n",
    "BMI=wght/(hght)**2\n",
    "print(f\" BMI is ={BMI}\")\n",
    "if BMI<18.5:\n",
    "    print(\"You are underweight\")\n",
    "elif 18.5<BMI<24.9:\n",
    "    print(\"You are normal weight\")\n",
    "elif 25<BMI<29.9:\n",
    "    print(\"You are overweight\")\n",
    "elif BMI>30:\n",
    "    print(\"You are obese\")\n",
    "\n",
    "    \n"
   ]
  },
  {
   "cell_type": "code",
   "execution_count": 7,
   "id": "84661dd3-4069-4f9a-89fd-385be228145e",
   "metadata": {},
   "outputs": [
    {
     "name": "stdin",
     "output_type": "stream",
     "text": [
      "Enter the value of x 10\n"
     ]
    },
    {
     "name": "stdout",
     "output_type": "stream",
     "text": [
      "The natural logarithm of 10=2.302585092994046\n"
     ]
    }
   ],
   "source": [
    "# 4. Write a Python Program to calculate the natural logarithm of any number?\n",
    "#ln(x)=log(x)/log(e)\n",
    "\n",
    "import math\n",
    "\n",
    "x=float(input(\"Enter the value of x\"))\n",
    "ln=math.log(x)\n",
    "print(f\"The natural logarithm of {int(x)}={ln}\")\n"
   ]
  },
  {
   "cell_type": "code",
   "execution_count": 4,
   "id": "c3475269-47a0-4b2b-96f0-69ee810104f1",
   "metadata": {},
   "outputs": [
    {
     "name": "stdin",
     "output_type": "stream",
     "text": [
      "Enter the n 10\n"
     ]
    },
    {
     "name": "stdout",
     "output_type": "stream",
     "text": [
      "The sum of cube of n natural number is=3025\n"
     ]
    }
   ],
   "source": [
    "# 5. Write a Python Program for cube sum of first n natural numbers?\n",
    "n=int(input(\"Enter the n:\"))\n",
    "sum=0\n",
    "for i in range(1,n+1):\n",
    "    sum+=i**3\n",
    "print(f\"The sum of cube of n natural number is={sum}\")\n",
    "\n",
    "\n",
    "    "
   ]
  },
  {
   "cell_type": "code",
   "execution_count": null,
   "id": "05c678fa-369c-46af-a939-b3837cb60710",
   "metadata": {},
   "outputs": [],
   "source": []
  }
 ],
 "metadata": {
  "kernelspec": {
   "display_name": "Python 3 (ipykernel)",
   "language": "python",
   "name": "python3"
  },
  "language_info": {
   "codemirror_mode": {
    "name": "ipython",
    "version": 3
   },
   "file_extension": ".py",
   "mimetype": "text/x-python",
   "name": "python",
   "nbconvert_exporter": "python",
   "pygments_lexer": "ipython3",
   "version": "3.10.6"
  }
 },
 "nbformat": 4,
 "nbformat_minor": 5
}
