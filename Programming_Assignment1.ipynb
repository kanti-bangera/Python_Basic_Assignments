{
 "cells": [
  {
   "cell_type": "code",
   "execution_count": null,
   "id": "d0acc42d-beec-4f52-a964-6fa3409ab13e",
   "metadata": {},
   "outputs": [],
   "source": [
    "# 1.\tWrite a Python program to print \"Hello Python\"?\n",
    "# 2.\tWrite a Python program to do arithmetical operations addition and division.?\n",
    "# 3.\tWrite a Python program to find the area of a triangle?\n",
    "# 4.\tWrite a Python program to swap two variables?\n",
    "# 5.\tWrite a Python program to generate a random number?\n"
   ]
  },
  {
   "cell_type": "code",
   "execution_count": 1,
   "id": "0b67929d-8663-436d-856b-f7b59e2aea16",
   "metadata": {},
   "outputs": [
    {
     "name": "stdout",
     "output_type": "stream",
     "text": [
      "Hello Python\n"
     ]
    }
   ],
   "source": [
    "# 1.\tWrite a Python program to print \"Hello Python\"?\n",
    "print(\"Hello Python\")"
   ]
  },
  {
   "cell_type": "code",
   "execution_count": 3,
   "id": "30f712fd-8ac5-4b90-b99e-7423c3719d4f",
   "metadata": {},
   "outputs": [
    {
     "name": "stdin",
     "output_type": "stream",
     "text": [
      "Enter x: 89\n",
      "Enter y: 0\n"
     ]
    },
    {
     "name": "stdout",
     "output_type": "stream",
     "text": [
      "Sum of 89 and 0 =89\n",
      "Enter the dividend should be non_zero\n"
     ]
    },
    {
     "name": "stdin",
     "output_type": "stream",
     "text": [
      "Enter y: 9\n"
     ]
    },
    {
     "name": "stdout",
     "output_type": "stream",
     "text": [
      "The quotient is =9.88888888888889\n"
     ]
    }
   ],
   "source": [
    "# 2.\tWrite a Python program to do arithmetical operations addition and division.?\n",
    "x=int(input(\"Enter x:\"))\n",
    "y=int(input(\"Enter y:\"))\n",
    "print(f\"Sum of {x} and {y} ={x+y}\")\n",
    "if y==0:\n",
    "    print(\"The dividend should be non_zero\")\n",
    "    y=int(input(\"Enter y:\"))\n",
    "print(f\"The quotient is ={x/y}\")\n",
    "    "
   ]
  },
  {
   "cell_type": "code",
   "execution_count": 4,
   "id": "2a7b6dd1-2aeb-42f1-848a-2d519efd704d",
   "metadata": {},
   "outputs": [
    {
     "name": "stdin",
     "output_type": "stream",
     "text": [
      "Enter  the base of the triangle 4\n",
      "Enter the height of the triangle 8\n"
     ]
    },
    {
     "name": "stdout",
     "output_type": "stream",
     "text": [
      "The area of the triangle is:16.0\n"
     ]
    }
   ],
   "source": [
    "# 3.\tWrite a Python program to find the area of a triangle?\n",
    "base=int(input(\"Enter  the base of the triangle\"))\n",
    "height=int(input(\"Enter the height of the triangle\"))\n",
    "area=(base*height)/2\n",
    "print(f\"The area of the triangle is:{area}\")\n",
    "           "
   ]
  },
  {
   "cell_type": "code",
   "execution_count": 5,
   "id": "10b5f7ca-0c3e-46f2-939c-151772c752f5",
   "metadata": {},
   "outputs": [
    {
     "name": "stdout",
     "output_type": "stream",
     "text": [
      " X after swapping is 5\n",
      " y after swapping is 10\n"
     ]
    }
   ],
   "source": [
    "#4 Write a Python program to swap two variables?\n",
    "x=10\n",
    "y=5\n",
    "temp=x\n",
    "x=y\n",
    "y=temp\n",
    "print(f\" X after swapping is {x}\")\n",
    "print(f\" y after swapping is {y}\")"
   ]
  },
  {
   "cell_type": "code",
   "execution_count": 6,
   "id": "b25cdf11-ef9e-4864-8561-10b374672644",
   "metadata": {},
   "outputs": [
    {
     "name": "stdout",
     "output_type": "stream",
     "text": [
      "6\n"
     ]
    }
   ],
   "source": [
    "# 5.Write a Python program to generate a random number?\n",
    "import random\n",
    "\n",
    "print(random.randint(1,10))# returns number between 1 and 10\n",
    "print(random.random()) # returns float value 0.0 to 1.0\n"
   ]
  },
  {
   "cell_type": "code",
   "execution_count": null,
   "id": "566e3563-42d6-4929-a79d-797644fafe08",
   "metadata": {},
   "outputs": [],
   "source": []
  }
 ],
 "metadata": {
  "kernelspec": {
   "display_name": "Python 3 (ipykernel)",
   "language": "python",
   "name": "python3"
  },
  "language_info": {
   "codemirror_mode": {
    "name": "ipython",
    "version": 3
   },
   "file_extension": ".py",
   "mimetype": "text/x-python",
   "name": "python",
   "nbconvert_exporter": "python",
   "pygments_lexer": "ipython3",
   "version": "3.10.6"
  }
 },
 "nbformat": 4,
 "nbformat_minor": 5
}
